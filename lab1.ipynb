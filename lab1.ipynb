{
 "cells": [
  {
   "cell_type": "code",
   "execution_count": 2,
   "id": "2f7556c9",
   "metadata": {},
   "outputs": [],
   "source": [
    "import time\n",
    "import numpy as np\n",
    "from easyAI import TwoPlayerGame, AI_Player, Negamax, NonRecursiveNegamax, SSS, DUAL"
   ]
  },
  {
   "cell_type": "code",
   "execution_count": 3,
   "id": "8ea4bbe2",
   "metadata": {},
   "outputs": [],
   "source": [
    "class AIPlayerWithTimer(AI_Player):\n",
    "    def __init__(self, AI_algo, name=\"AI\"):\n",
    "        super().__init__(AI_algo, name)\n",
    "        self.move = {}\n",
    "        self.mean_time = 0\n",
    "        self.moves_counter = 0\n",
    "\n",
    "    def ask_move(self, game):\n",
    "        st = time.time()\n",
    "        move = self.AI_algo(game)\n",
    "        et = time.time()\n",
    "        self.mean_time = ((self.mean_time * self.moves_counter) + (et - st)) / (self.moves_counter + 1)\n",
    "        self.moves_counter += 1\n",
    "        return move"
   ]
  },
  {
   "cell_type": "code",
   "execution_count": 4,
   "id": "de7ede65",
   "metadata": {},
   "outputs": [],
   "source": [
    "class ClumsyConnectFour(TwoPlayerGame):\n",
    "    def __init__(self, players, board=None):\n",
    "        self.players = players\n",
    "        self.board = (\n",
    "            board if (board is not None) else (np.array([[0 for i in range(7)] for j in range(6)]))\n",
    "        )\n",
    "        self.current_player = 1\n",
    "        self.pos_dir = np.array(\n",
    "            [[[i, 0], [0, 1]] for i in range(6)]\n",
    "            + [[[0, i], [1, 0]] for i in range(7)]\n",
    "            + [[[i, 0], [1, 1]] for i in range(1, 3)]\n",
    "            + [[[0, i], [1, 1]] for i in range(4)]\n",
    "            + [[[i, 6], [1, -1]] for i in range(1, 3)]\n",
    "            + [[[0, i], [1, -1]] for i in range(3, 7)]\n",
    "        )\n",
    "\n",
    "    def possible_moves(self):\n",
    "        return [i for i in range(7) if (self.board[:, i].min() == 0)]\n",
    "\n",
    "    def make_move(self, column):\n",
    "        rand_move = np.random.choice(np.arange(-1, 2), p=[0.05, 0.9, 0.05])\n",
    "        column = max(min(column + rand_move, 6), 0)\n",
    "        line = np.argmin(self.board[:, column] != 0)\n",
    "        self.board[line, column] = self.current_player\n",
    "\n",
    "    def show(self):\n",
    "        print(\n",
    "            \"\\n\"\n",
    "            + \"\\n\".join(\n",
    "                [\"0 1 2 3 4 5 6\", 13 * \"-\"]\n",
    "                + [\n",
    "                    \" \".join([[\".\", \"O\", \"X\"][self.board[5 - j][i]] for i in range(7)])\n",
    "                    for j in range(6)\n",
    "                ]\n",
    "            )\n",
    "        )\n",
    "\n",
    "    def lose(self):\n",
    "        return self.find_four(self.board, self.opponent_index)\n",
    "\n",
    "    def is_over(self):\n",
    "        return (self.board.min() > 0) or self.lose()\n",
    "\n",
    "    def scoring(self):\n",
    "        return -100 if self.lose() else 0\n",
    "\n",
    "    def find_four(self, board, current_player):\n",
    "        for pos, direction in self.pos_dir:\n",
    "            streak = 0\n",
    "            while (0 <= pos[0] <= 5) and (0 <= pos[1] <= 6):\n",
    "                if board[pos[0], pos[1]] == current_player:\n",
    "                    streak += 1\n",
    "                    if streak == 4:\n",
    "                        return True\n",
    "                else:\n",
    "                    streak = 0\n",
    "                pos = pos + direction\n",
    "        return False"
   ]
  },
  {
   "cell_type": "code",
   "execution_count": 5,
   "id": "f3e9cec5",
   "metadata": {},
   "outputs": [],
   "source": [
    "class ConnectFour(TwoPlayerGame):\n",
    "    def __init__(self, players, board=None):\n",
    "        self.players = players\n",
    "        self.board = (\n",
    "            board\n",
    "            if (board is not None)\n",
    "            else (np.array([[0 for i in range(7)] for j in range(6)]))\n",
    "        )\n",
    "        self.current_player = 1\n",
    "        self.pos_dir = np.array(\n",
    "            [[[i, 0], [0, 1]] for i in range(6)]\n",
    "            + [[[0, i], [1, 0]] for i in range(7)]\n",
    "            + [[[i, 0], [1, 1]] for i in range(1, 3)]\n",
    "            + [[[0, i], [1, 1]] for i in range(4)]\n",
    "            + [[[i, 6], [1, -1]] for i in range(1, 3)]\n",
    "            + [[[0, i], [1, -1]] for i in range(3, 7)]\n",
    "        )\n",
    "\n",
    "    def possible_moves(self):\n",
    "        return [i for i in range(7) if (self.board[:, i].min() == 0)]\n",
    "\n",
    "    def make_move(self, column):\n",
    "        line = np.argmin(self.board[:, column] != 0)\n",
    "        self.board[line, column] = self.current_player\n",
    "\n",
    "    def show(self):\n",
    "        print(\n",
    "            \"\\n\"\n",
    "            + \"\\n\".join(\n",
    "                [\"0 1 2 3 4 5 6\", 13 * \"-\"]\n",
    "                + [\n",
    "                    \" \".join([[\".\", \"O\", \"X\"][self.board[5 - j][i]] for i in range(7)])\n",
    "                    for j in range(6)\n",
    "                ]\n",
    "            )\n",
    "        )\n",
    "\n",
    "    def lose(self):\n",
    "        return self.find_four(self.board, self.opponent_index)\n",
    "\n",
    "    def is_over(self):\n",
    "        return (self.board.min() > 0) or self.lose()\n",
    "\n",
    "    def scoring(self):\n",
    "        return -100 if self.lose() else 0\n",
    "\n",
    "    def find_four(self, board, current_player):\n",
    "        for pos, direction in self.pos_dir:\n",
    "            streak = 0\n",
    "            while (0 <= pos[0] <= 5) and (0 <= pos[1] <= 6):\n",
    "                if board[pos[0], pos[1]] == current_player:\n",
    "                    streak += 1\n",
    "                    if streak == 4:\n",
    "                        return True\n",
    "                else:\n",
    "                    streak = 0\n",
    "                pos = pos + direction\n",
    "        return False"
   ]
  },
  {
   "cell_type": "code",
   "execution_count": 6,
   "id": "98762b3e",
   "metadata": {},
   "outputs": [],
   "source": [
    "class Tournament:\n",
    "    def __init__(self, tournament_length, algo1, algo2, prob):\n",
    "        self.ranking = [0, 0, 0]\n",
    "        self.tournament_length = tournament_length\n",
    "        self.player1 = AIPlayerWithTimer(algo1)\n",
    "        self.player2 = AIPlayerWithTimer(algo2)\n",
    "        self.prob = prob\n",
    "\n",
    "    def start_round(self, switch_player):\n",
    "        if self.prob:\n",
    "            game = ClumsyConnectFour([self.player1, self.player2])\n",
    "        else:\n",
    "            game = ConnectFour([self.player1, self.player2])\n",
    "        if switch_player:\n",
    "            game.switch_player()\n",
    "        game.play(verbose=False)\n",
    "        if game.lose():\n",
    "            self.ranking[game.opponent_index - 1] += 1\n",
    "        else:\n",
    "            self.ranking[-1] +=1\n",
    "\n",
    "    def start_tournament(self):\n",
    "        for _ in range(self.tournament_length):\n",
    "            switch_player = np.random.choice(np.arange(0, 2), p=[0.5, 0.5])\n",
    "            self.start_round(switch_player)"
   ]
  },
  {
   "cell_type": "markdown",
   "id": "a00d2ccd",
   "metadata": {},
   "source": [
    "# Wersja probabilistyczna"
   ]
  },
  {
   "cell_type": "markdown",
   "id": "04e4345f",
   "metadata": {},
   "source": [
    "### Negamax (4) vs Negamax (2)"
   ]
  },
  {
   "cell_type": "code",
   "execution_count": 10,
   "id": "ccfd6e7a",
   "metadata": {},
   "outputs": [
    {
     "name": "stdout",
     "output_type": "stream",
     "text": [
      "[20, 18, 2] 0.03190418218760558 0.004641701915476583\n"
     ]
    }
   ],
   "source": [
    "tournament = Tournament(40, Negamax(4), Negamax(2), True)\n",
    "tournament.start_tournament()\n",
    "print(tournament.ranking, tournament.player1.mean_time, tournament.player2.mean_time)"
   ]
  },
  {
   "cell_type": "markdown",
   "id": "6cf6765c",
   "metadata": {},
   "source": [
    "### Negamax (3) vs Negamax (5)"
   ]
  },
  {
   "cell_type": "code",
   "execution_count": 15,
   "id": "32d9de8a",
   "metadata": {},
   "outputs": [
    {
     "name": "stdout",
     "output_type": "stream",
     "text": [
      "[18, 21, 1] 0.01440441762673877 0.09578366724999393\n"
     ]
    }
   ],
   "source": [
    "tournament = Tournament(40, Negamax(3), Negamax(5), True)\n",
    "tournament.start_tournament()\n",
    "print(tournament.ranking, tournament.player1.mean_time, tournament.player2.mean_time)"
   ]
  },
  {
   "cell_type": "markdown",
   "id": "c796b38f",
   "metadata": {},
   "source": [
    "### DUAL (3) vs DUAL (4)"
   ]
  },
  {
   "cell_type": "code",
   "execution_count": 16,
   "id": "201f31f0",
   "metadata": {},
   "outputs": [
    {
     "name": "stdout",
     "output_type": "stream",
     "text": [
      "[12, 23, 5] 0.019328924944726874 0.04024292398476557\n"
     ]
    }
   ],
   "source": [
    "tournament = Tournament(40, DUAL(3), DUAL(4), True)\n",
    "tournament.start_tournament()\n",
    "print(tournament.ranking, tournament.player1.mean_time, tournament.player2.mean_time)"
   ]
  },
  {
   "cell_type": "markdown",
   "id": "56371e67",
   "metadata": {},
   "source": [
    "### DUAL (2) vs DUAL (5)"
   ]
  },
  {
   "cell_type": "code",
   "execution_count": 17,
   "id": "03096044",
   "metadata": {},
   "outputs": [
    {
     "name": "stdout",
     "output_type": "stream",
     "text": [
      "[22, 17, 1] 0.006034370368199222 0.2315103688539889\n"
     ]
    }
   ],
   "source": [
    "tournament = Tournament(40, DUAL(2), DUAL(5), True)\n",
    "tournament.start_tournament()\n",
    "print(tournament.ranking, tournament.player1.mean_time, tournament.player2.mean_time)"
   ]
  },
  {
   "cell_type": "markdown",
   "id": "8aa0e4ab",
   "metadata": {},
   "source": [
    "### Negamax (5) vs DUAL (5)"
   ]
  },
  {
   "cell_type": "code",
   "execution_count": 18,
   "id": "2708854d",
   "metadata": {},
   "outputs": [
    {
     "name": "stdout",
     "output_type": "stream",
     "text": [
      "[27, 8, 5] 0.09137560975905278 0.10027692109718254\n"
     ]
    }
   ],
   "source": [
    "tournament = Tournament(40, Negamax(5), DUAL(5), True)\n",
    "tournament.start_tournament()\n",
    "print(tournament.ranking, tournament.player1.mean_time, tournament.player2.mean_time)"
   ]
  },
  {
   "cell_type": "markdown",
   "id": "ed59f9ba",
   "metadata": {},
   "source": [
    "### Negamax (3) vs DUAL (3)"
   ]
  },
  {
   "cell_type": "code",
   "execution_count": 19,
   "id": "6e6d5dae",
   "metadata": {},
   "outputs": [
    {
     "name": "stdout",
     "output_type": "stream",
     "text": [
      "[18, 15, 7] 0.013642688829204292 0.0362829383538694\n"
     ]
    }
   ],
   "source": [
    "tournament = Tournament(40, Negamax(3), DUAL(3), True)\n",
    "tournament.start_tournament()\n",
    "print(tournament.ranking, tournament.player1.mean_time, tournament.player2.mean_time)"
   ]
  },
  {
   "cell_type": "markdown",
   "id": "4799c79c",
   "metadata": {},
   "source": [
    "### SSS (3) vs SSS (5)"
   ]
  },
  {
   "cell_type": "code",
   "execution_count": 20,
   "id": "f649f8bb",
   "metadata": {},
   "outputs": [
    {
     "name": "stdout",
     "output_type": "stream",
     "text": [
      "[17, 19, 4] 0.021972253251431595 0.13718371827210948\n"
     ]
    }
   ],
   "source": [
    "tournament = Tournament(40, SSS(3), SSS(5), True)\n",
    "tournament.start_tournament()\n",
    "print(tournament.ranking, tournament.player1.mean_time, tournament.player2.mean_time)"
   ]
  },
  {
   "cell_type": "markdown",
   "id": "23d66008",
   "metadata": {},
   "source": [
    "### SSS (2) vs SSS (4)"
   ]
  },
  {
   "cell_type": "code",
   "execution_count": 21,
   "id": "695dc0ec",
   "metadata": {},
   "outputs": [
    {
     "name": "stdout",
     "output_type": "stream",
     "text": [
      "[17, 20, 3] 0.06268813475122986 0.03895282297206107\n"
     ]
    }
   ],
   "source": [
    "tournament = Tournament(40, SSS(2), SSS(4), True)\n",
    "tournament.start_tournament()\n",
    "print(tournament.ranking, tournament.player1.mean_time, tournament.player2.mean_time)"
   ]
  },
  {
   "cell_type": "markdown",
   "id": "b12d8c16",
   "metadata": {},
   "source": [
    "### SSS (3) vs Negamax (3)"
   ]
  },
  {
   "cell_type": "code",
   "execution_count": 22,
   "id": "de741528",
   "metadata": {},
   "outputs": [
    {
     "name": "stdout",
     "output_type": "stream",
     "text": [
      "[18, 17, 5] 0.01924131680046723 0.014487912098141702\n"
     ]
    }
   ],
   "source": [
    "tournament = Tournament(40, SSS(3), Negamax(3), True)\n",
    "tournament.start_tournament()\n",
    "print(tournament.ranking, tournament.player1.mean_time, tournament.player2.mean_time)"
   ]
  },
  {
   "cell_type": "markdown",
   "id": "6159f319",
   "metadata": {},
   "source": [
    "### SSS (4) vs DUAL (4)"
   ]
  },
  {
   "cell_type": "code",
   "execution_count": 23,
   "id": "eaea16ac",
   "metadata": {},
   "outputs": [
    {
     "name": "stdout",
     "output_type": "stream",
     "text": [
      "[14, 19, 7] 0.0397767257864776 0.08151691480116409\n"
     ]
    }
   ],
   "source": [
    "tournament = Tournament(40, SSS(4), DUAL(4), True)\n",
    "tournament.start_tournament()\n",
    "print(tournament.ranking, tournament.player1.mean_time, tournament.player2.mean_time)"
   ]
  },
  {
   "cell_type": "markdown",
   "id": "14a38b0a",
   "metadata": {},
   "source": [
    "# Wersja deterministyczna"
   ]
  },
  {
   "cell_type": "markdown",
   "id": "37951974",
   "metadata": {},
   "source": [
    "### Negamax (4) vs Negamax (2)"
   ]
  },
  {
   "cell_type": "code",
   "execution_count": 36,
   "id": "69345632",
   "metadata": {},
   "outputs": [
    {
     "name": "stdout",
     "output_type": "stream",
     "text": [
      "[19, 21, 0] 0.023223282475220538 0.003629110047691747\n"
     ]
    }
   ],
   "source": [
    "tournament = Tournament(40, Negamax(4), Negamax(2), False)\n",
    "tournament.start_tournament()\n",
    "print(tournament.ranking, tournament.player1.mean_time, tournament.player2.mean_time)"
   ]
  },
  {
   "cell_type": "markdown",
   "id": "562a3acc",
   "metadata": {},
   "source": [
    "### Negamax (3) vs Negamax (5)"
   ]
  },
  {
   "cell_type": "code",
   "execution_count": null,
   "id": "73d8525d",
   "metadata": {},
   "outputs": [],
   "source": [
    "tournament = Tournament(40, Negamax(3), Negamax(5), False)\n",
    "tournament.start_tournament()\n",
    "print(tournament.ranking, tournament.player1.mean_time, tournament.player2.mean_time)"
   ]
  },
  {
   "cell_type": "markdown",
   "id": "05f09bfe",
   "metadata": {},
   "source": [
    "### DUAL (3) vs DUAL (4)"
   ]
  },
  {
   "cell_type": "code",
   "execution_count": 39,
   "id": "7d14324a",
   "metadata": {},
   "outputs": [
    {
     "name": "stdout",
     "output_type": "stream",
     "text": [
      "[13, 27, 0] 0.012206828259081252 0.026740777604232022\n"
     ]
    }
   ],
   "source": [
    "tournament = Tournament(40, DUAL(3), DUAL(4), False)\n",
    "tournament.start_tournament()\n",
    "print(tournament.ranking, tournament.player1.mean_time, tournament.player2.mean_time)"
   ]
  },
  {
   "cell_type": "markdown",
   "id": "bf954555",
   "metadata": {},
   "source": [
    "### DUAL (2) vs DUAL (5)"
   ]
  },
  {
   "cell_type": "code",
   "execution_count": 41,
   "id": "be7e1755",
   "metadata": {},
   "outputs": [
    {
     "name": "stdout",
     "output_type": "stream",
     "text": [
      "[23, 17, 0] 0.004613579047421746 0.07065316844665863\n"
     ]
    }
   ],
   "source": [
    "tournament = Tournament(40, DUAL(2), DUAL(5), False)\n",
    "tournament.start_tournament()\n",
    "print(tournament.ranking, tournament.player1.mean_time, tournament.player2.mean_time)"
   ]
  },
  {
   "cell_type": "markdown",
   "id": "d3487811",
   "metadata": {},
   "source": [
    "### Negamax (5) vs DUAL (5)"
   ]
  },
  {
   "cell_type": "code",
   "execution_count": 42,
   "id": "c184d0e2",
   "metadata": {},
   "outputs": [
    {
     "name": "stdout",
     "output_type": "stream",
     "text": [
      "[24, 16, 0] 0.06738046977830976 0.07103435274051584\n"
     ]
    }
   ],
   "source": [
    "tournament = Tournament(40, Negamax(5), DUAL(5), False)\n",
    "tournament.start_tournament()\n",
    "print(tournament.ranking, tournament.player1.mean_time, tournament.player2.mean_time)"
   ]
  },
  {
   "cell_type": "markdown",
   "id": "70b3f79d",
   "metadata": {},
   "source": [
    "### Negamax (3) vs DUAL (3)"
   ]
  },
  {
   "cell_type": "code",
   "execution_count": 43,
   "id": "0f191083",
   "metadata": {},
   "outputs": [
    {
     "name": "stdout",
     "output_type": "stream",
     "text": [
      "[21, 15, 4] 0.013630356286701405 0.031074365538746224\n"
     ]
    }
   ],
   "source": [
    "tournament = Tournament(40, Negamax(3), DUAL(3), False)\n",
    "tournament.start_tournament()\n",
    "print(tournament.ranking, tournament.player1.mean_time, tournament.player2.mean_time)"
   ]
  },
  {
   "cell_type": "markdown",
   "id": "43689ff9",
   "metadata": {},
   "source": [
    "### SSS (3) vs SSS (5)"
   ]
  },
  {
   "cell_type": "code",
   "execution_count": 44,
   "id": "99386fe5",
   "metadata": {},
   "outputs": [
    {
     "name": "stdout",
     "output_type": "stream",
     "text": [
      "[16, 24, 0] 0.01380847346398138 0.09787842278839437\n"
     ]
    }
   ],
   "source": [
    "tournament = Tournament(40, SSS(3), SSS(5), False)\n",
    "tournament.start_tournament()\n",
    "print(tournament.ranking, tournament.player1.mean_time, tournament.player2.mean_time)"
   ]
  },
  {
   "cell_type": "markdown",
   "id": "ee93753e",
   "metadata": {},
   "source": [
    "### SSS (2) vs SSS (4)"
   ]
  },
  {
   "cell_type": "code",
   "execution_count": 48,
   "id": "bd9ab035",
   "metadata": {},
   "outputs": [
    {
     "name": "stdout",
     "output_type": "stream",
     "text": [
      "[19, 21, 0] 0.004566761807069763 0.027423109924584105\n"
     ]
    }
   ],
   "source": [
    "tournament = Tournament(40, SSS(2), SSS(4), False)\n",
    "tournament.start_tournament()\n",
    "print(tournament.ranking, tournament.player1.mean_time, tournament.player2.mean_time)"
   ]
  },
  {
   "cell_type": "markdown",
   "id": "50d31948",
   "metadata": {},
   "source": [
    "### SSS (3) vs Negamax (3)"
   ]
  },
  {
   "cell_type": "code",
   "execution_count": 49,
   "id": "1a7daeb9",
   "metadata": {},
   "outputs": [
    {
     "name": "stdout",
     "output_type": "stream",
     "text": [
      "[14, 26, 0] 0.013627314881274574 0.01082228077085394\n"
     ]
    }
   ],
   "source": [
    "tournament = Tournament(40, SSS(3), Negamax(3), False)\n",
    "tournament.start_tournament()\n",
    "print(tournament.ranking, tournament.player1.mean_time, tournament.player2.mean_time)"
   ]
  },
  {
   "cell_type": "markdown",
   "id": "1a4a061e",
   "metadata": {},
   "source": [
    "### SSS (4) vs DUAL (4)"
   ]
  },
  {
   "cell_type": "code",
   "execution_count": 50,
   "id": "e235ee1b",
   "metadata": {},
   "outputs": [
    {
     "name": "stdout",
     "output_type": "stream",
     "text": [
      "[19, 21, 0] 0.028250686327616372 0.028047224548127917\n"
     ]
    }
   ],
   "source": [
    "tournament = Tournament(40, SSS(4), DUAL(4), False)\n",
    "tournament.start_tournament()\n",
    "print(tournament.ranking, tournament.player1.mean_time, tournament.player2.mean_time)"
   ]
  },
  {
   "cell_type": "markdown",
   "id": "4e8d5fab",
   "metadata": {},
   "source": [
    "### Negamax alfa-beta (4) vs Negamax alfa-beta (2)"
   ]
  },
  {
   "cell_type": "code",
   "execution_count": 8,
   "id": "5afce383",
   "metadata": {},
   "outputs": [
    {
     "name": "stdout",
     "output_type": "stream",
     "text": [
      "[22, 18, 0] 0.02238127965676159 0.0036110765055606233\n"
     ]
    }
   ],
   "source": [
    "tournament = Tournament(40, Negamax(4, win_score=3), Negamax(2, win_score=3), False)\n",
    "tournament.start_tournament()\n",
    "print(tournament.ranking, tournament.player1.mean_time, tournament.player2.mean_time)"
   ]
  },
  {
   "cell_type": "markdown",
   "id": "1488c77a",
   "metadata": {},
   "source": [
    "### Negamax alfa-beta (3) vs SSS (4)"
   ]
  },
  {
   "cell_type": "code",
   "execution_count": 9,
   "id": "f6b160f3",
   "metadata": {},
   "outputs": [
    {
     "name": "stdout",
     "output_type": "stream",
     "text": [
      "[17, 23, 0] 0.010439823325196954 0.02589711943994781\n"
     ]
    }
   ],
   "source": [
    "tournament = Tournament(40, Negamax(3, win_score=3), SSS(4), False)\n",
    "tournament.start_tournament()\n",
    "print(tournament.ranking, tournament.player1.mean_time, tournament.player2.mean_time)"
   ]
  },
  {
   "cell_type": "markdown",
   "id": "3eaf8002",
   "metadata": {},
   "source": [
    "### Negamax alfa-beta (3) vs DUAL (5)"
   ]
  },
  {
   "cell_type": "code",
   "execution_count": 10,
   "id": "851dfb4e",
   "metadata": {},
   "outputs": [
    {
     "name": "stdout",
     "output_type": "stream",
     "text": [
      "[24, 16, 0] 0.01041333182998325 0.099895845612754\n"
     ]
    }
   ],
   "source": [
    "tournament = Tournament(40, Negamax(3, win_score=3), SSS(5), False)\n",
    "tournament.start_tournament()\n",
    "print(tournament.ranking, tournament.player1.mean_time, tournament.player2.mean_time)"
   ]
  },
  {
   "cell_type": "markdown",
   "id": "5fbcda8f",
   "metadata": {},
   "source": [
    "### Negamax alfa-beta (3) vs Negamax (3)"
   ]
  },
  {
   "cell_type": "code",
   "execution_count": 11,
   "id": "37e73e8f",
   "metadata": {},
   "outputs": [
    {
     "name": "stdout",
     "output_type": "stream",
     "text": [
      "[21, 19, 0] 0.010099453361410837 0.010394373065546952\n"
     ]
    }
   ],
   "source": [
    "tournament = Tournament(40, Negamax(3, win_score=3), Negamax(3), False)\n",
    "tournament.start_tournament()\n",
    "print(tournament.ranking, tournament.player1.mean_time, tournament.player2.mean_time)"
   ]
  },
  {
   "cell_type": "code",
   "execution_count": null,
   "id": "83644137",
   "metadata": {},
   "outputs": [],
   "source": []
  }
 ],
 "metadata": {
  "kernelspec": {
   "display_name": "Python 3 (ipykernel)",
   "language": "python",
   "name": "python3"
  },
  "language_info": {
   "codemirror_mode": {
    "name": "ipython",
    "version": 3
   },
   "file_extension": ".py",
   "mimetype": "text/x-python",
   "name": "python",
   "nbconvert_exporter": "python",
   "pygments_lexer": "ipython3",
   "version": "3.9.12"
  }
 },
 "nbformat": 4,
 "nbformat_minor": 5
}
