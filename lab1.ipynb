{
 "cells": [
  {
   "cell_type": "code",
   "execution_count": 3,
   "id": "2f7556c9",
   "metadata": {},
   "outputs": [],
   "source": [
    "import time\n",
    "\n",
    "import numpy as np\n",
    "from easyAI import TwoPlayerGame, AI_Player, Negamax, SSS, DUAL"
   ]
  },
  {
   "cell_type": "code",
   "execution_count": 4,
   "id": "8ea4bbe2",
   "metadata": {},
   "outputs": [],
   "source": [
    "class AIPlayerWithTimer(AI_Player):\n",
    "    def __init__(self, AI_algo, name=\"AI\"):\n",
    "        super().__init__(AI_algo, name)\n",
    "        self.move = {}\n",
    "        self.mean_time = 0\n",
    "        self.moves_counter = 0\n",
    "\n",
    "    def ask_move(self, game):\n",
    "        st = time.time()\n",
    "        move = self.AI_algo(game)\n",
    "        et = time.time()\n",
    "        self.mean_time = ((self.mean_time * self.moves_counter) + (et - st)) / (self.moves_counter + 1)\n",
    "        self.moves_counter += 1\n",
    "        return move"
   ]
  },
  {
   "cell_type": "code",
   "execution_count": 5,
   "id": "de7ede65",
   "metadata": {},
   "outputs": [],
   "source": [
    "class ClumsyConnectFour(TwoPlayerGame):\n",
    "    def __init__(self, players, board=None):\n",
    "        self.players = players\n",
    "        self.board = (\n",
    "            board if (board is not None) else (np.array([[0 for i in range(7)] for j in range(6)]))\n",
    "        )\n",
    "        self.current_player = 1\n",
    "        self.pos_dir = np.array(\n",
    "            [[[i, 0], [0, 1]] for i in range(6)]\n",
    "            + [[[0, i], [1, 0]] for i in range(7)]\n",
    "            + [[[i, 0], [1, 1]] for i in range(1, 3)]\n",
    "            + [[[0, i], [1, 1]] for i in range(4)]\n",
    "            + [[[i, 6], [1, -1]] for i in range(1, 3)]\n",
    "            + [[[0, i], [1, -1]] for i in range(3, 7)]\n",
    "        )\n",
    "\n",
    "    def possible_moves(self):\n",
    "        return [i for i in range(7) if (self.board[:, i].min() == 0)]\n",
    "\n",
    "    def make_move(self, column):\n",
    "        rand_move = np.random.choice(np.arange(-1, 2), p=[0.05, 0.9, 0.05])\n",
    "        column = max(min(column + rand_move, 6), 0)\n",
    "        line = np.argmin(self.board[:, column] != 0)\n",
    "        self.board[line, column] = self.current_player\n",
    "\n",
    "    def show(self):\n",
    "        print(\n",
    "            \"\\n\"\n",
    "            + \"\\n\".join(\n",
    "                [\"0 1 2 3 4 5 6\", 13 * \"-\"]\n",
    "                + [\n",
    "                    \" \".join([[\".\", \"O\", \"X\"][self.board[5 - j][i]] for i in range(7)])\n",
    "                    for j in range(6)\n",
    "                ]\n",
    "            )\n",
    "        )\n",
    "\n",
    "    def lose(self):\n",
    "        return self.find_four(self.board, self.opponent_index)\n",
    "\n",
    "    def is_over(self):\n",
    "        return (self.board.min() > 0) or self.lose()\n",
    "\n",
    "    def scoring(self):\n",
    "        return -100 if self.lose() else 0\n",
    "\n",
    "    def find_four(self, board, current_player):\n",
    "        for pos, direction in self.pos_dir:\n",
    "            streak = 0\n",
    "            while (0 <= pos[0] <= 5) and (0 <= pos[1] <= 6):\n",
    "                if board[pos[0], pos[1]] == current_player:\n",
    "                    streak += 1\n",
    "                    if streak == 4:\n",
    "                        return True\n",
    "                else:\n",
    "                    streak = 0\n",
    "                pos = pos + direction\n",
    "        return False"
   ]
  },
  {
   "cell_type": "code",
   "execution_count": 6,
   "id": "f3e9cec5",
   "metadata": {},
   "outputs": [],
   "source": [
    "class ConnectFour(TwoPlayerGame):\n",
    "    def __init__(self, players, board=None):\n",
    "        self.players = players\n",
    "        self.board = (\n",
    "            board\n",
    "            if (board is not None)\n",
    "            else (np.array([[0 for i in range(7)] for j in range(6)]))\n",
    "        )\n",
    "        self.current_player = 1\n",
    "        self.pos_dir = np.array(\n",
    "            [[[i, 0], [0, 1]] for i in range(6)]\n",
    "            + [[[0, i], [1, 0]] for i in range(7)]\n",
    "            + [[[i, 0], [1, 1]] for i in range(1, 3)]\n",
    "            + [[[0, i], [1, 1]] for i in range(4)]\n",
    "            + [[[i, 6], [1, -1]] for i in range(1, 3)]\n",
    "            + [[[0, i], [1, -1]] for i in range(3, 7)]\n",
    "        )\n",
    "\n",
    "    def possible_moves(self):\n",
    "        return [i for i in range(7) if (self.board[:, i].min() == 0)]\n",
    "\n",
    "    def make_move(self, column):\n",
    "        line = np.argmin(self.board[:, column] != 0)\n",
    "        self.board[line, column] = self.current_player\n",
    "\n",
    "    def show(self):\n",
    "        print(\n",
    "            \"\\n\"\n",
    "            + \"\\n\".join(\n",
    "                [\"0 1 2 3 4 5 6\", 13 * \"-\"]\n",
    "                + [\n",
    "                    \" \".join([[\".\", \"O\", \"X\"][self.board[5 - j][i]] for i in range(7)])\n",
    "                    for j in range(6)\n",
    "                ]\n",
    "            )\n",
    "        )\n",
    "\n",
    "    def lose(self):\n",
    "        return self.find_four(self.board, self.opponent_index)\n",
    "\n",
    "    def is_over(self):\n",
    "        return (self.board.min() > 0) or self.lose()\n",
    "\n",
    "    def scoring(self):\n",
    "        return -100 if self.lose() else 0\n",
    "\n",
    "    def find_four(self, board, current_player):\n",
    "        for pos, direction in self.pos_dir:\n",
    "            streak = 0\n",
    "            while (0 <= pos[0] <= 5) and (0 <= pos[1] <= 6):\n",
    "                if board[pos[0], pos[1]] == current_player:\n",
    "                    streak += 1\n",
    "                    if streak == 4:\n",
    "                        return True\n",
    "                else:\n",
    "                    streak = 0\n",
    "                pos = pos + direction\n",
    "        return False"
   ]
  },
  {
   "cell_type": "code",
   "execution_count": 7,
   "id": "98762b3e",
   "metadata": {},
   "outputs": [],
   "source": [
    "class Tournament:\n",
    "    def __init__(self, tournament_length, algo1, algo2, prob):\n",
    "        self.ranking = [0, 0, 0]\n",
    "        self.tournament_length = tournament_length\n",
    "        self.player1 = AIPlayerWithTimer(algo1)\n",
    "        self.player2 = AIPlayerWithTimer(algo2)\n",
    "        self.prob = prob\n",
    "\n",
    "    def start_round(self, switch_player):\n",
    "        if self.prob:\n",
    "            game = ClumsyConnectFour([self.player1, self.player2])\n",
    "        else:\n",
    "            game = ConnectFour([self.player1, self.player2])\n",
    "        if switch_player:\n",
    "            game.switch_player()\n",
    "        game.play(verbose=False)\n",
    "        if game.lose():\n",
    "            self.ranking[game.opponent_index - 1] += 1\n",
    "        else:\n",
    "            self.ranking[-1] += 1\n",
    "\n",
    "    def start_tournament(self):\n",
    "        for _ in range(self.tournament_length):\n",
    "            switch_player = np.random.choice(np.arange(0, 2), p=[0.5, 0.5])\n",
    "            self.start_round(switch_player)"
   ]
  },
  {
   "cell_type": "markdown",
   "id": "a00d2ccd",
   "metadata": {},
   "source": [
    "# Wersja probabilistyczna"
   ]
  },
  {
   "cell_type": "markdown",
   "id": "04e4345f",
   "metadata": {},
   "source": [
    "### Negamax (4) vs Negamax (2)"
   ]
  },
  {
   "cell_type": "code",
   "execution_count": 8,
   "id": "ccfd6e7a",
   "metadata": {},
   "outputs": [
    {
     "name": "stdout",
     "output_type": "stream",
     "text": [
      "[27, 10, 3] 0.041497494463335005 0.005824729747570023\n"
     ]
    }
   ],
   "source": [
    "tournament = Tournament(40, Negamax(4), Negamax(2), True)\n",
    "tournament.start_tournament()\n",
    "print(tournament.ranking, tournament.player1.mean_time, tournament.player2.mean_time)"
   ]
  },
  {
   "cell_type": "markdown",
   "id": "6cf6765c",
   "metadata": {},
   "source": [
    "### Negamax (3) vs Negamax (5)"
   ]
  },
  {
   "cell_type": "code",
   "execution_count": 9,
   "id": "32d9de8a",
   "metadata": {},
   "outputs": [
    {
     "name": "stdout",
     "output_type": "stream",
     "text": [
      "[20, 14, 6] 0.021857655455008874 0.1413909127495506\n"
     ]
    }
   ],
   "source": [
    "tournament = Tournament(40, Negamax(3), Negamax(5), True)\n",
    "tournament.start_tournament()\n",
    "print(tournament.ranking, tournament.player1.mean_time, tournament.player2.mean_time)"
   ]
  },
  {
   "cell_type": "markdown",
   "id": "c796b38f",
   "metadata": {},
   "source": [
    "### DUAL (3) vs DUAL (4)"
   ]
  },
  {
   "cell_type": "code",
   "execution_count": 10,
   "id": "201f31f0",
   "metadata": {},
   "outputs": [
    {
     "name": "stdout",
     "output_type": "stream",
     "text": [
      "[15, 21, 4] 0.04530553335554146 0.06417854831499223\n"
     ]
    }
   ],
   "source": [
    "tournament = Tournament(40, DUAL(3), DUAL(4), True)\n",
    "tournament.start_tournament()\n",
    "print(tournament.ranking, tournament.player1.mean_time, tournament.player2.mean_time)"
   ]
  },
  {
   "cell_type": "markdown",
   "id": "56371e67",
   "metadata": {},
   "source": [
    "### DUAL (2) vs DUAL (5)"
   ]
  },
  {
   "cell_type": "code",
   "execution_count": 11,
   "id": "03096044",
   "metadata": {},
   "outputs": [
    {
     "name": "stdout",
     "output_type": "stream",
     "text": [
      "[18, 18, 4] 0.010571640542990663 0.17024938182698363\n"
     ]
    }
   ],
   "source": [
    "tournament = Tournament(40, DUAL(2), DUAL(5), True)\n",
    "tournament.start_tournament()\n",
    "print(tournament.ranking, tournament.player1.mean_time, tournament.player2.mean_time)"
   ]
  },
  {
   "cell_type": "markdown",
   "id": "8aa0e4ab",
   "metadata": {},
   "source": [
    "### Negamax (5) vs DUAL (5)"
   ]
  },
  {
   "cell_type": "code",
   "execution_count": 12,
   "id": "2708854d",
   "metadata": {},
   "outputs": [
    {
     "name": "stdout",
     "output_type": "stream",
     "text": [
      "[24, 14, 2] 0.12116825559864873 0.1429909357433753\n"
     ]
    }
   ],
   "source": [
    "tournament = Tournament(40, Negamax(5), DUAL(5), True)\n",
    "tournament.start_tournament()\n",
    "print(tournament.ranking, tournament.player1.mean_time, tournament.player2.mean_time)"
   ]
  },
  {
   "cell_type": "markdown",
   "id": "ed59f9ba",
   "metadata": {},
   "source": [
    "### Negamax (3) vs DUAL (3)"
   ]
  },
  {
   "cell_type": "code",
   "execution_count": 13,
   "id": "6e6d5dae",
   "metadata": {},
   "outputs": [
    {
     "name": "stdout",
     "output_type": "stream",
     "text": [
      "[23, 15, 2] 0.018559262465639232 0.024775442956876347\n"
     ]
    }
   ],
   "source": [
    "tournament = Tournament(40, Negamax(3), DUAL(3), True)\n",
    "tournament.start_tournament()\n",
    "print(tournament.ranking, tournament.player1.mean_time, tournament.player2.mean_time)"
   ]
  },
  {
   "cell_type": "markdown",
   "id": "4799c79c",
   "metadata": {},
   "source": [
    "### SSS (3) vs SSS (5)"
   ]
  },
  {
   "cell_type": "code",
   "execution_count": 14,
   "id": "f649f8bb",
   "metadata": {},
   "outputs": [
    {
     "name": "stdout",
     "output_type": "stream",
     "text": [
      "[16, 18, 6] 0.021976932440653872 0.1656387389490479\n"
     ]
    }
   ],
   "source": [
    "tournament = Tournament(40, SSS(3), SSS(5), True)\n",
    "tournament.start_tournament()\n",
    "print(tournament.ranking, tournament.player1.mean_time, tournament.player2.mean_time)"
   ]
  },
  {
   "cell_type": "markdown",
   "id": "23d66008",
   "metadata": {},
   "source": [
    "### SSS (2) vs SSS (4)"
   ]
  },
  {
   "cell_type": "code",
   "execution_count": 15,
   "id": "695dc0ec",
   "metadata": {},
   "outputs": [
    {
     "name": "stdout",
     "output_type": "stream",
     "text": [
      "[19, 18, 3] 0.010803633456607516 0.059802484598091156\n"
     ]
    }
   ],
   "source": [
    "tournament = Tournament(40, SSS(2), SSS(4), True)\n",
    "tournament.start_tournament()\n",
    "print(tournament.ranking, tournament.player1.mean_time, tournament.player2.mean_time)"
   ]
  },
  {
   "cell_type": "markdown",
   "id": "b12d8c16",
   "metadata": {},
   "source": [
    "### SSS (3) vs Negamax (3)"
   ]
  },
  {
   "cell_type": "code",
   "execution_count": 16,
   "id": "de741528",
   "metadata": {},
   "outputs": [
    {
     "name": "stdout",
     "output_type": "stream",
     "text": [
      "[17, 18, 5] 0.023212125486146762 0.017847455277734833\n"
     ]
    }
   ],
   "source": [
    "tournament = Tournament(40, SSS(3), Negamax(3), True)\n",
    "tournament.start_tournament()\n",
    "print(tournament.ranking, tournament.player1.mean_time, tournament.player2.mean_time)"
   ]
  },
  {
   "cell_type": "markdown",
   "id": "6159f319",
   "metadata": {},
   "source": [
    "### SSS (4) vs DUAL (4)"
   ]
  },
  {
   "cell_type": "code",
   "execution_count": 17,
   "id": "eaea16ac",
   "metadata": {},
   "outputs": [
    {
     "name": "stdout",
     "output_type": "stream",
     "text": [
      "[21, 17, 2] 0.05061487204824423 0.8817893275379275\n"
     ]
    }
   ],
   "source": [
    "tournament = Tournament(40, SSS(4), DUAL(4), True)\n",
    "tournament.start_tournament()\n",
    "print(tournament.ranking, tournament.player1.mean_time, tournament.player2.mean_time)"
   ]
  },
  {
   "cell_type": "markdown",
   "id": "14a38b0a",
   "metadata": {},
   "source": [
    "# Wersja deterministyczna"
   ]
  },
  {
   "cell_type": "markdown",
   "id": "37951974",
   "metadata": {},
   "source": [
    "### Negamax (4) vs Negamax (2)"
   ]
  },
  {
   "cell_type": "code",
   "execution_count": 18,
   "id": "69345632",
   "metadata": {},
   "outputs": [
    {
     "name": "stdout",
     "output_type": "stream",
     "text": [
      "[25, 15, 0] 0.028505662867897436 0.004124908384523896\n"
     ]
    }
   ],
   "source": [
    "tournament = Tournament(40, Negamax(4), Negamax(2), False)\n",
    "tournament.start_tournament()\n",
    "print(tournament.ranking, tournament.player1.mean_time, tournament.player2.mean_time)"
   ]
  },
  {
   "cell_type": "markdown",
   "id": "562a3acc",
   "metadata": {},
   "source": [
    "### Negamax (3) vs Negamax (5)"
   ]
  },
  {
   "cell_type": "code",
   "execution_count": 19,
   "id": "73d8525d",
   "metadata": {},
   "outputs": [
    {
     "name": "stdout",
     "output_type": "stream",
     "text": [
      "[20, 20, 0] 0.016310357420068047 0.10344166410596752\n"
     ]
    }
   ],
   "source": [
    "tournament = Tournament(40, Negamax(3), Negamax(5), False)\n",
    "tournament.start_tournament()\n",
    "print(tournament.ranking, tournament.player1.mean_time, tournament.player2.mean_time)"
   ]
  },
  {
   "cell_type": "markdown",
   "id": "05f09bfe",
   "metadata": {},
   "source": [
    "### DUAL (3) vs DUAL (4)"
   ]
  },
  {
   "cell_type": "code",
   "execution_count": 20,
   "id": "7d14324a",
   "metadata": {},
   "outputs": [
    {
     "name": "stdout",
     "output_type": "stream",
     "text": [
      "[23, 17, 0] 0.016686397135823882 0.03582534084811783\n"
     ]
    }
   ],
   "source": [
    "tournament = Tournament(40, DUAL(3), DUAL(4), False)\n",
    "tournament.start_tournament()\n",
    "print(tournament.ranking, tournament.player1.mean_time, tournament.player2.mean_time)"
   ]
  },
  {
   "cell_type": "markdown",
   "id": "bf954555",
   "metadata": {},
   "source": [
    "### DUAL (2) vs DUAL (5)"
   ]
  },
  {
   "cell_type": "code",
   "execution_count": 21,
   "id": "be7e1755",
   "metadata": {},
   "outputs": [
    {
     "name": "stdout",
     "output_type": "stream",
     "text": [
      "[18, 22, 0] 0.0056029448933357165 0.08651503912522138\n"
     ]
    }
   ],
   "source": [
    "tournament = Tournament(40, DUAL(2), DUAL(5), False)\n",
    "tournament.start_tournament()\n",
    "print(tournament.ranking, tournament.player1.mean_time, tournament.player2.mean_time)"
   ]
  },
  {
   "cell_type": "markdown",
   "id": "d3487811",
   "metadata": {},
   "source": [
    "### Negamax (5) vs DUAL (5)"
   ]
  },
  {
   "cell_type": "code",
   "execution_count": 22,
   "id": "c184d0e2",
   "metadata": {},
   "outputs": [
    {
     "name": "stdout",
     "output_type": "stream",
     "text": [
      "[20, 20, 0] 0.08416786870440937 0.08880755031431044\n"
     ]
    }
   ],
   "source": [
    "tournament = Tournament(40, Negamax(5), DUAL(5), False)\n",
    "tournament.start_tournament()\n",
    "print(tournament.ranking, tournament.player1.mean_time, tournament.player2.mean_time)"
   ]
  },
  {
   "cell_type": "markdown",
   "id": "70b3f79d",
   "metadata": {},
   "source": [
    "### Negamax (3) vs DUAL (3)"
   ]
  },
  {
   "cell_type": "code",
   "execution_count": 23,
   "id": "0f191083",
   "metadata": {},
   "outputs": [
    {
     "name": "stdout",
     "output_type": "stream",
     "text": [
      "[14, 26, 0] 0.013573017245844787 0.014818839336696425\n"
     ]
    }
   ],
   "source": [
    "tournament = Tournament(40, Negamax(3), DUAL(3), False)\n",
    "tournament.start_tournament()\n",
    "print(tournament.ranking, tournament.player1.mean_time, tournament.player2.mean_time)"
   ]
  },
  {
   "cell_type": "markdown",
   "id": "43689ff9",
   "metadata": {},
   "source": [
    "### SSS (3) vs SSS (5)"
   ]
  },
  {
   "cell_type": "code",
   "execution_count": 24,
   "id": "99386fe5",
   "metadata": {},
   "outputs": [
    {
     "name": "stdout",
     "output_type": "stream",
     "text": [
      "[20, 20, 0] 0.01812837703807934 0.13028147381705218\n"
     ]
    }
   ],
   "source": [
    "tournament = Tournament(40, SSS(3), SSS(5), False)\n",
    "tournament.start_tournament()\n",
    "print(tournament.ranking, tournament.player1.mean_time, tournament.player2.mean_time)"
   ]
  },
  {
   "cell_type": "markdown",
   "id": "ee93753e",
   "metadata": {},
   "source": [
    "### SSS (2) vs SSS (4)"
   ]
  },
  {
   "cell_type": "code",
   "execution_count": 25,
   "id": "bd9ab035",
   "metadata": {},
   "outputs": [
    {
     "name": "stdout",
     "output_type": "stream",
     "text": [
      "[18, 22, 0] 0.007880021940987064 0.04597159183892923\n"
     ]
    }
   ],
   "source": [
    "tournament = Tournament(40, SSS(2), SSS(4), False)\n",
    "tournament.start_tournament()\n",
    "print(tournament.ranking, tournament.player1.mean_time, tournament.player2.mean_time)"
   ]
  },
  {
   "cell_type": "markdown",
   "id": "50d31948",
   "metadata": {},
   "source": [
    "### SSS (3) vs Negamax (3)"
   ]
  },
  {
   "cell_type": "code",
   "execution_count": 26,
   "id": "1a7daeb9",
   "metadata": {},
   "outputs": [
    {
     "name": "stdout",
     "output_type": "stream",
     "text": [
      "[17, 23, 0] 0.019463243923689224 0.015411228882639039\n"
     ]
    }
   ],
   "source": [
    "tournament = Tournament(40, SSS(3), Negamax(3), False)\n",
    "tournament.start_tournament()\n",
    "print(tournament.ranking, tournament.player1.mean_time, tournament.player2.mean_time)"
   ]
  },
  {
   "cell_type": "markdown",
   "id": "1a4a061e",
   "metadata": {},
   "source": [
    "### SSS (4) vs DUAL (4)"
   ]
  },
  {
   "cell_type": "code",
   "execution_count": 27,
   "id": "e235ee1b",
   "metadata": {},
   "outputs": [
    {
     "name": "stdout",
     "output_type": "stream",
     "text": [
      "[20, 20, 0] 0.03486426638232344 0.034472404917081194\n"
     ]
    }
   ],
   "source": [
    "tournament = Tournament(40, SSS(4), DUAL(4), False)\n",
    "tournament.start_tournament()\n",
    "print(tournament.ranking, tournament.player1.mean_time, tournament.player2.mean_time)"
   ]
  },
  {
   "cell_type": "markdown",
   "id": "4e8d5fab",
   "metadata": {},
   "source": [
    "### Negamax alfa-beta (4) vs Negamax alfa-beta (2)"
   ]
  },
  {
   "cell_type": "code",
   "execution_count": 28,
   "id": "5afce383",
   "metadata": {},
   "outputs": [
    {
     "name": "stdout",
     "output_type": "stream",
     "text": [
      "[17, 23, 0] 0.032800183798137476 0.005050589850074371\n"
     ]
    }
   ],
   "source": [
    "tournament = Tournament(40, Negamax(4, win_score=3), Negamax(2, win_score=3), False)\n",
    "tournament.start_tournament()\n",
    "print(tournament.ranking, tournament.player1.mean_time, tournament.player2.mean_time)"
   ]
  },
  {
   "cell_type": "markdown",
   "id": "1488c77a",
   "metadata": {},
   "source": [
    "### Negamax alfa-beta (3) vs SSS (4)"
   ]
  },
  {
   "cell_type": "code",
   "execution_count": 29,
   "id": "f6b160f3",
   "metadata": {},
   "outputs": [
    {
     "name": "stdout",
     "output_type": "stream",
     "text": [
      "[19, 21, 0] 0.01471055599681118 0.03639753176937542\n"
     ]
    }
   ],
   "source": [
    "tournament = Tournament(40, Negamax(3, win_score=3), SSS(4), False)\n",
    "tournament.start_tournament()\n",
    "print(tournament.ranking, tournament.player1.mean_time, tournament.player2.mean_time)"
   ]
  },
  {
   "cell_type": "markdown",
   "id": "3eaf8002",
   "metadata": {},
   "source": [
    "### Negamax alfa-beta (3) vs DUAL (5)"
   ]
  },
  {
   "cell_type": "code",
   "execution_count": 30,
   "id": "851dfb4e",
   "metadata": {},
   "outputs": [
    {
     "name": "stdout",
     "output_type": "stream",
     "text": [
      "[14, 26, 0] 0.013494343284627395 0.11797355231267204\n"
     ]
    }
   ],
   "source": [
    "tournament = Tournament(40, Negamax(3, win_score=3), SSS(5), False)\n",
    "tournament.start_tournament()\n",
    "print(tournament.ranking, tournament.player1.mean_time, tournament.player2.mean_time)"
   ]
  },
  {
   "cell_type": "markdown",
   "id": "5fbcda8f",
   "metadata": {},
   "source": [
    "### Negamax alfa-beta (3) vs Negamax (3)"
   ]
  },
  {
   "cell_type": "code",
   "execution_count": 31,
   "id": "37e73e8f",
   "metadata": {},
   "outputs": [
    {
     "name": "stdout",
     "output_type": "stream",
     "text": [
      "[18, 22, 0] 0.012153641801131399 0.012694538894452538\n"
     ]
    }
   ],
   "source": [
    "tournament = Tournament(40, Negamax(3, win_score=3), Negamax(3), False)\n",
    "tournament.start_tournament()\n",
    "print(tournament.ranking, tournament.player1.mean_time, tournament.player2.mean_time)"
   ]
  },
  {
   "cell_type": "markdown",
   "source": [
    "# NegaMax without alpha beta pruning"
   ],
   "metadata": {
    "collapsed": false
   }
  },
  {
   "cell_type": "markdown",
   "source": [
    "The negamax_no_alfa_beta algorithm is a variation of the negamax algorithm used for game playing. It uses the concept of a \"transposition table\" to avoid recomputing the same positions multiple times during the search."
   ],
   "metadata": {
    "collapsed": false
   }
  },
  {
   "cell_type": "markdown",
   "source": [
    "The function takes in several parameters, including the current game state, the current depth in the game tree, and a function for evaluating the game state. It returns the best value found by the algorithm."
   ],
   "metadata": {
    "collapsed": false
   }
  },
  {
   "cell_type": "markdown",
   "source": [
    "The function first checks if the current depth is 0 or if the game is over. If so, it returns the score for the current game state. Otherwise, it loops through all possible moves, calculating the move value for each using recursion."
   ],
   "metadata": {
    "collapsed": false
   }
  },
  {
   "cell_type": "markdown",
   "source": [
    "## sounds great but wait, what alpha beta pruning actually is?\n",
    "Alpha-beta pruning is a technique used in game playing algorithms to reduce the number of nodes that need to be evaluated. It works by eliminating parts of the game tree that are guaranteed to be worse than other parts.\n",
    "\n",
    "### how does it work\n",
    "The basic idea of alpha-beta pruning is to keep track of two values: alpha and beta. Alpha represents the best value found so far for the maximizing player, while beta represents the best value found so far for the minimizing player. As the search progresses, these values are updated based on the values of the nodes visited.\n",
    "If at any point in the search, the current alpha value is greater than or equal to the current beta value, then we can stop evaluating the current branch of the tree, since it is guaranteed to be worse than another branch already evaluated. This is known as pruning.\n",
    "\n",
    "### pros and cons\n",
    "One of the main advantages of alpha-beta pruning is that it can significantly reduce the number of nodes that need to be evaluated during a game search. This can lead to faster and more efficient game playing algorithms.\n",
    "\n",
    "However, alpha-beta pruning is not always guaranteed to provide optimal results. In some cases, it may prune a branch of the tree that leads to a better solution than the one found by the algorithm. Additionally, the effectiveness of alpha-beta pruning can depend on the ordering of the nodes in the game tree."
   ],
   "metadata": {
    "collapsed": false
   }
  },
  {
   "cell_type": "markdown",
   "source": [
    "## implementation (NegaMax without alpha beta pruning)"
   ],
   "metadata": {
    "collapsed": false
   }
  },
  {
   "cell_type": "code",
   "execution_count": 32,
   "outputs": [],
   "source": [
    "LOWERBOUND, EXACT, UPPERBOUND = -1, 0, 1\n",
    "inf = float('infinity')\n",
    "\n",
    "\n",
    "def negamax_no_alfa_beta(game, depth, origDepth, scoring, tt=None):\n",
    "    \"\"\"\n",
    "    Negamax algorithm with no alpha-beta pruning.\n",
    "\n",
    "    Args:\n",
    "        game: An object representing the game state.\n",
    "        depth: The current depth in the game tree.\n",
    "        origDepth: The original depth in the game tree.\n",
    "        scoring: A function that evaluates the game state.\n",
    "        tt: Transposition table for storing previous results.\n",
    "\n",
    "    Returns:\n",
    "        The best value found by the algorithm.\n",
    "    \"\"\"\n",
    "    # Base case: if depth is 0 or the game is over, return the score\n",
    "\n",
    "    if (depth == 0) or game.is_over():\n",
    "        score = scoring(game)\n",
    "        if score == 0:\n",
    "            return score\n",
    "        else:\n",
    "            return score - 0.01 * depth * abs(score) / score\n",
    "    # Get possible moves and current game state\n",
    "    possible_moves = game.possible_moves()\n",
    "    state = game\n",
    "    best_move = possible_moves[0]\n",
    "    if depth == origDepth:\n",
    "        state.ai_move = possible_moves[0]\n",
    "\n",
    "    bestValue = -inf\n",
    "    unmake_move = hasattr(state, 'unmake_move')\n",
    "\n",
    "    for move in possible_moves:\n",
    "\n",
    "        if not unmake_move:\n",
    "            game = state.copy()  # re-initialize move\n",
    "\n",
    "        game.make_move(move)\n",
    "        game.switch_player()\n",
    "\n",
    "        move_value = -negamax_no_alfa_beta(game, depth - 1, origDepth, scoring, tt)\n",
    "\n",
    "        if unmake_move:\n",
    "            game.switch_player()\n",
    "            game.unmake_move(move)\n",
    "\n",
    "        if bestValue < move_value:\n",
    "            bestValue = move_value\n",
    "            best_move = move\n",
    "\n",
    "    if tt is not None:\n",
    "        assert best_move in possible_moves\n",
    "        tt.store(game=state, depth=depth, value=bestValue,\n",
    "                 move=best_move, flag=EXACT)\n",
    "\n",
    "    return bestValue"
   ],
   "metadata": {
    "collapsed": false
   }
  },
  {
   "cell_type": "code",
   "execution_count": 33,
   "outputs": [],
   "source": [
    "class NegamaxNoAlfaBetaPruning:\n",
    "\n",
    "    def __init__(self, depth, scoring=None, win_score=+inf, tt=None):\n",
    "        self.scoring = scoring\n",
    "        self.depth = depth\n",
    "        self.tt = tt\n",
    "        self.win_score = win_score\n",
    "\n",
    "    def __call__(self, game):\n",
    "        \"\"\"\n",
    "        Returns the AI's best move given the current state of the game.\n",
    "        \"\"\"\n",
    "        scoring = self.scoring if self.scoring else (\n",
    "            lambda g: g.scoring())  # horrible hack\n",
    "\n",
    "        self.alpha = negamax_no_alfa_beta(game, self.depth, self.depth, scoring, self.tt)\n",
    "        return game.ai_move"
   ],
   "metadata": {
    "collapsed": false
   }
  },
  {
   "cell_type": "markdown",
   "source": [
    "## comparison between NegaMax with and without alpha beta pruning"
   ],
   "metadata": {
    "collapsed": false
   }
  },
  {
   "cell_type": "markdown",
   "source": [
    "### deterministic model"
   ],
   "metadata": {
    "collapsed": false
   }
  },
  {
   "cell_type": "markdown",
   "source": [
    "#### NegaMax(3) vs NegamaxNoAlfaBetaPruning(3)"
   ],
   "metadata": {
    "collapsed": false
   }
  },
  {
   "cell_type": "code",
   "execution_count": 34,
   "outputs": [
    {
     "name": "stdout",
     "output_type": "stream",
     "text": [
      "[40, 0, 0] 0.018141466101216523 0.0832033688607423\n"
     ]
    }
   ],
   "source": [
    "tournament = Tournament(40, Negamax(3, win_score=3), NegamaxNoAlfaBetaPruning(3), False)\n",
    "\n",
    "tournament.start_tournament()\n",
    "print(tournament.ranking, tournament.player1.mean_time, tournament.player2.mean_time)"
   ],
   "metadata": {
    "collapsed": false
   }
  },
  {
   "cell_type": "markdown",
   "source": [
    "#### NegaMax(5) vs NegamaxNoAlfaBetaPruning(5)"
   ],
   "metadata": {
    "collapsed": false
   }
  },
  {
   "cell_type": "code",
   "execution_count": 38,
   "outputs": [
    {
     "name": "stdout",
     "output_type": "stream",
     "text": [
      "[40, 0, 0] 0.13172518077649562 3.557136417759788\n"
     ]
    }
   ],
   "source": [
    "tournament = Tournament(40, Negamax(5, win_score=3), NegamaxNoAlfaBetaPruning(5), False)\n",
    "\n",
    "tournament.start_tournament()\n",
    "print(tournament.ranking, tournament.player1.mean_time, tournament.player2.mean_time)"
   ],
   "metadata": {
    "collapsed": false
   }
  },
  {
   "cell_type": "markdown",
   "source": [
    "### probabilistic model"
   ],
   "metadata": {
    "collapsed": false
   }
  },
  {
   "cell_type": "markdown",
   "source": [
    "#### NegaMax(3) vs NegamaxNoAlfaBetaPruning(3)"
   ],
   "metadata": {
    "collapsed": false
   }
  },
  {
   "cell_type": "code",
   "execution_count": null,
   "outputs": [],
   "source": [
    "tournament = Tournament(40, Negamax(3, win_score=3), NegamaxNoAlfaBetaPruning(3), True)\n",
    "\n",
    "tournament.start_tournament()\n",
    "print(tournament.ranking, tournament.player1.mean_time, tournament.player2.mean_time)"
   ],
   "metadata": {
    "collapsed": false,
    "pycharm": {
     "is_executing": true
    }
   }
  },
  {
   "cell_type": "markdown",
   "source": [
    "#### NegaMax(5) vs NegamaxNoAlfaBetaPruning(5)"
   ],
   "metadata": {
    "collapsed": false
   }
  },
  {
   "cell_type": "code",
   "execution_count": null,
   "outputs": [],
   "source": [
    "tournament = Tournament(40, Negamax(5, win_score=3), NegamaxNoAlfaBetaPruning(5), True)\n",
    "\n",
    "tournament.start_tournament()\n",
    "print(tournament.ranking, tournament.player1.mean_time, tournament.player2.mean_time)"
   ],
   "metadata": {
    "collapsed": false,
    "pycharm": {
     "is_executing": true
    }
   }
  },
  {
   "cell_type": "markdown",
   "source": [
    "As we can see from the results above the version of NegaMax without alpha beta pruning is significantly faster than the version with the alpha beta pruning. BUT the"
   ],
   "metadata": {
    "collapsed": false
   }
  },
  {
   "cell_type": "markdown",
   "source": [
    "# expecti mini max with alpha beta pruning\n",
    "## fine but a few words of description\n",
    "### overall\n",
    "ExpectiMiniMax with Alpha-Beta Pruning is a decision-making algorithm used in game theory and artificial intelligence to determine the best move in a game. It is an extension of the classic Minimax algorithm that incorporates chance nodes, i.e., nodes where the outcome of a move is determined by a random event.\n",
    "\n",
    "In ExpectiMiniMax with Alpha-Beta Pruning, the algorithm iterates through the game tree, evaluating each possible move to a certain depth, similar to Minimax. However, at chance nodes, instead of simply returning the maximum or minimum value of its child nodes, the algorithm calculates a weighted average of the child node values, where the weights are the probabilities of each child node occurring.\n",
    "### why alpha beta pruning you may ask\n",
    "The algorithm uses alpha-beta pruning to improve its efficiency. Combining ExpectiMiniMax with Alpha-Beta Pruning allows the algorithm to evaluate each move efficiently while considering the possibility of chance events, ultimately leading to a better decision-making process.\n",
    "\n",
    "Instead of the minimax values, the nodes have the expectimax values. They’re the same as the minimax values for MIN and MAX nodes, but for a chance node, the expectimax value is the expected value of its children\n",
    "![Image](https://www.baeldung.com/wp-content/uploads/sites/4/2021/10/expected-value.jpg)\n"
   ],
   "metadata": {
    "collapsed": false
   }
  },
  {
   "cell_type": "markdown",
   "source": [
    "## and eventually the implementation!! :))"
   ],
   "metadata": {
    "collapsed": false
   }
  },
  {
   "cell_type": "code",
   "execution_count": null,
   "outputs": [],
   "source": [
    "class ExpectiMiniMaxAlphaBeta:\n",
    "\n",
    "    def __init__(self, depth, scoring=None, win_score=float('inf'), tt=None):\n",
    "        self.scoring = scoring\n",
    "        self.depth = depth\n",
    "        self.tt = tt\n",
    "        self.win_score = win_score\n",
    "\n",
    "    def __call__(self, game):\n",
    "        \"\"\"\n",
    "        Returns the AI's best move given the current state of the game.\n",
    "        \"\"\"\n",
    "        scoring = self.scoring if self.scoring else (\n",
    "            lambda g: g.scoring())  # horrible hack\n",
    "\n",
    "        self.alpha = -self.win_score\n",
    "        self.beta = self.win_score\n",
    "        self.best_move = None\n",
    "        self.expecti_minimax(game, self.depth, scoring, self.alpha, self.beta)\n",
    "        return self.best_move\n",
    "\n",
    "    def expecti_minimax(self, game, depth, scoring, alpha, beta):\n",
    "        \"\"\"\n",
    "        Expecti-miniMax algorithm with alpha-beta pruning.\n",
    "\n",
    "        Args:\n",
    "            game: An object representing the game state.\n",
    "            depth: The current depth in the game tree.\n",
    "            scoring: A function that evaluates the game state.\n",
    "            alpha: The lower bound for the best value found so far.\n",
    "            beta: The upper bound for the best value found so far.\n",
    "\n",
    "        Returns:\n",
    "            The best value found by the algorithm.\n",
    "        \"\"\"\n",
    "        if depth == 0 or game.is_over():\n",
    "            score = scoring(game)\n",
    "            if score == 0:\n",
    "                return score\n",
    "            else:\n",
    "                return score - 0.01 * depth * abs(score) / score\n",
    "\n",
    "        possible_moves = game.possible_moves()\n",
    "        state = game\n",
    "        if depth == self.depth:\n",
    "            self.best_move = possible_moves[0]\n",
    "\n",
    "        best_value = -self.win_score\n",
    "\n",
    "        for move in possible_moves:\n",
    "            if not hasattr(state, 'unmake_move'):\n",
    "                game = state.copy()\n",
    "            else:\n",
    "                game = state\n",
    "\n",
    "            game.make_move(move)\n",
    "\n",
    "            if game.is_over():\n",
    "                value = scoring(game)\n",
    "            else:\n",
    "                value = -self.expecti_minimax(game, depth - 1, scoring, -beta, -alpha)\n",
    "\n",
    "            if not hasattr(state, 'unmake_move'):\n",
    "                game = state.copy()\n",
    "\n",
    "            if value > best_value:\n",
    "                best_value = value\n",
    "                if depth == self.depth:\n",
    "                    self.best_move = move\n",
    "\n",
    "            alpha = max(alpha, value)\n",
    "            if alpha >= beta:\n",
    "                break\n",
    "\n",
    "        return best_value\n"
   ],
   "metadata": {
    "collapsed": false
   }
  },
  {
   "cell_type": "markdown",
   "source": [
    "## probabilistic model"
   ],
   "metadata": {
    "collapsed": false
   }
  },
  {
   "cell_type": "markdown",
   "source": [
    "### ExpectiMiniMax(3) vs NegaMax(3)"
   ],
   "metadata": {
    "collapsed": false
   }
  },
  {
   "cell_type": "code",
   "execution_count": null,
   "outputs": [],
   "source": [
    "tournament = Tournament(40, ExpectiMiniMaxAlphaBeta(3, win_score=3), Negamax(3, 3), True)\n",
    "\n",
    "tournament.start_tournament()\n",
    "print(tournament.ranking, tournament.player1.mean_time, tournament.player2.mean_time)"
   ],
   "metadata": {
    "collapsed": false
   }
  },
  {
   "cell_type": "markdown",
   "source": [
    "### ExpectiMiniMax(3) vs SSS(3)"
   ],
   "metadata": {
    "collapsed": false
   }
  },
  {
   "cell_type": "code",
   "execution_count": null,
   "outputs": [],
   "source": [
    "tournament = Tournament(40, ExpectiMiniMaxAlphaBeta(3, win_score=3), SSS(3), True)\n",
    "tournament.start_tournament()\n",
    "print(tournament.ranking, tournament.player1.mean_time, tournament.player2.mean_time)"
   ],
   "metadata": {
    "collapsed": false
   }
  },
  {
   "cell_type": "markdown",
   "source": [
    "### ExpectiMiniMax(3) vs NegamaxNoAlfaBetaPruning(3)"
   ],
   "metadata": {
    "collapsed": false
   }
  },
  {
   "cell_type": "code",
   "execution_count": null,
   "outputs": [],
   "source": [
    "tournament = Tournament(40, ExpectiMiniMaxAlphaBeta(3, win_score=3), NegamaxNoAlfaBetaPruning(3), True)\n",
    "tournament.start_tournament()\n",
    "print(tournament.ranking, tournament.player1.mean_time, tournament.player2.mean_time)"
   ],
   "metadata": {
    "collapsed": false
   }
  },
  {
   "cell_type": "markdown",
   "source": [
    "## deterministic model"
   ],
   "metadata": {
    "collapsed": false
   }
  },
  {
   "cell_type": "markdown",
   "source": [
    "### ExpectiMiniMax(3) vs NegaMax(3)"
   ],
   "metadata": {
    "collapsed": false
   }
  },
  {
   "cell_type": "code",
   "execution_count": null,
   "outputs": [],
   "source": [
    "tournament = Tournament(40, ExpectiMiniMaxAlphaBeta(3, win_score=3), Negamax(3, 3), False)\n",
    "\n",
    "tournament.start_tournament()\n",
    "print(tournament.ranking, tournament.player1.mean_time, tournament.player2.mean_time)"
   ],
   "metadata": {
    "collapsed": false
   }
  },
  {
   "cell_type": "markdown",
   "source": [
    "### ExpectiMiniMax(3) vs SSS(3)"
   ],
   "metadata": {
    "collapsed": false
   }
  },
  {
   "cell_type": "code",
   "execution_count": null,
   "outputs": [],
   "source": [
    "tournament = Tournament(40, ExpectiMiniMaxAlphaBeta(3, win_score=3), SSS(3), False)\n",
    "tournament.start_tournament()\n",
    "print(tournament.ranking, tournament.player1.mean_time, tournament.player2.mean_time)"
   ],
   "metadata": {
    "collapsed": false
   }
  },
  {
   "cell_type": "markdown",
   "source": [
    "### ExpectiMiniMax(3) vs NegamaxNoAlfaBetaPruning(3)"
   ],
   "metadata": {
    "collapsed": false
   }
  },
  {
   "cell_type": "code",
   "execution_count": null,
   "outputs": [],
   "source": [
    "tournament = Tournament(40, ExpectiMiniMaxAlphaBeta(3, win_score=3), NegamaxNoAlfaBetaPruning(3), False)\n",
    "tournament.start_tournament()\n",
    "print(tournament.ranking, tournament.player1.mean_time, tournament.player2.mean_time)"
   ],
   "metadata": {
    "collapsed": false
   }
  }
 ],
 "metadata": {
  "kernelspec": {
   "display_name": "Python 3 (ipykernel)",
   "language": "python",
   "name": "python3"
  },
  "language_info": {
   "codemirror_mode": {
    "name": "ipython",
    "version": 3
   },
   "file_extension": ".py",
   "mimetype": "text/x-python",
   "name": "python",
   "nbconvert_exporter": "python",
   "pygments_lexer": "ipython3",
   "version": "3.9.12"
  }
 },
 "nbformat": 4,
 "nbformat_minor": 5
}
